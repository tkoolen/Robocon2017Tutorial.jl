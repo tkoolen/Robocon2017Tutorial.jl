{
 "cells": [
  {
   "cell_type": "markdown",
   "metadata": {},
   "source": [
    "# Julia and the Power of Multiple Dispatch\n",
    "\n",
    "Julia is built around the concept of *multiple dispatch*. Multiple dispatch means that when you call a function \n",
    "\n",
    "```juila\n",
    "f(a, b, c)\n",
    "```\n",
    "\n",
    "Julia chooses *which implementation* of the function `f` to call based on the types of `a`, `b`, and `c`. Compare this with Python, in which\n",
    "\n",
    "```python\n",
    "# python\n",
    "f(a, b, c)\n",
    "```\n",
    "\n",
    "always calls the same function `f` for any `a`, `b`, and `c`, or\n",
    "\n",
    "```python\n",
    "# python\n",
    "a.f(b, c)\n",
    "```\n",
    "\n",
    "which chooses the version of `f` based on the class of `a`, but not `b` or `c`. \n",
    "\n",
    "This allows us to do some really cool things in Julia that would be difficult in other languages. As an example, let's show off building a very primitive symbolic math tool. \n",
    "\n",
    "## Building a Symbolic Math Library\n",
    "\n",
    "The first thing we need to do is define our data type. We'll call it an Expression and it will store a mathematical expression as a string. This is not a particularly good way to write a symbolic math tool, but it's useful as a demonstration:"
   ]
  },
  {
   "cell_type": "code",
   "execution_count": 1,
   "metadata": {
    "collapsed": false
   },
   "outputs": [],
   "source": [
    "type Expression\n",
    "    data::String\n",
    "end"
   ]
  },
  {
   "cell_type": "markdown",
   "metadata": {},
   "source": [
    "Now we can construct variables: "
   ]
  },
  {
   "cell_type": "code",
   "execution_count": 2,
   "metadata": {
    "collapsed": false
   },
   "outputs": [
    {
     "data": {
      "text/plain": [
       "Expression(\"y\")"
      ]
     },
     "execution_count": 2,
     "metadata": {},
     "output_type": "execute_result"
    }
   ],
   "source": [
    "x = Expression(\"x\")\n",
    "y = Expression(\"y\")"
   ]
  },
  {
   "cell_type": "markdown",
   "metadata": {},
   "source": [
    "Let's implement addition for our symbolic type. To do that, we overload the `+` function:"
   ]
  },
  {
   "cell_type": "code",
   "execution_count": 3,
   "metadata": {
    "collapsed": false
   },
   "outputs": [
    {
     "data": {
      "text/plain": [
       "+ (generic function with 164 methods)"
      ]
     },
     "execution_count": 3,
     "metadata": {},
     "output_type": "execute_result"
    }
   ],
   "source": [
    "import Base: +\n",
    "\n",
    "+(e1::Expression, e2::Expression) = Expression(\"$(e1.data) + $(e2.data)\")"
   ]
  },
  {
   "cell_type": "markdown",
   "metadata": {},
   "source": [
    "Now we can add two expressions:"
   ]
  },
  {
   "cell_type": "code",
   "execution_count": 4,
   "metadata": {
    "collapsed": false
   },
   "outputs": [
    {
     "data": {
      "text/plain": [
       "Expression(\"x + y\")"
      ]
     },
     "execution_count": 4,
     "metadata": {},
     "output_type": "execute_result"
    }
   ],
   "source": [
    "x + y"
   ]
  },
  {
   "cell_type": "markdown",
   "metadata": {},
   "source": [
    "But what if we want to add other number types to our Expressions? This is where multiple dispatch comes in. We can define `+` for any combination of types that we want:"
   ]
  },
  {
   "cell_type": "code",
   "execution_count": 5,
   "metadata": {
    "collapsed": false
   },
   "outputs": [
    {
     "data": {
      "text/plain": [
       "+ (generic function with 166 methods)"
      ]
     },
     "execution_count": 5,
     "metadata": {},
     "output_type": "execute_result"
    }
   ],
   "source": [
    "# Define adding an expression to a number:\n",
    "+(e::Expression, n::Number) = Expression(\"$(e.data) + $(n)\")\n",
    "\n",
    "# Define adding a number to an expression:\n",
    "+(n::Number, e::Expression) = Expression(\"$(n) + $(e.data)\")"
   ]
  },
  {
   "cell_type": "markdown",
   "metadata": {},
   "source": [
    "Now we can do:"
   ]
  },
  {
   "cell_type": "code",
   "execution_count": 6,
   "metadata": {
    "collapsed": false
   },
   "outputs": [
    {
     "data": {
      "text/plain": [
       "Expression(\"x + 1\")"
      ]
     },
     "execution_count": 6,
     "metadata": {},
     "output_type": "execute_result"
    }
   ],
   "source": [
    "x + 1"
   ]
  },
  {
   "cell_type": "markdown",
   "metadata": {},
   "source": [
    "Aside: what is the `Number` type? `Number` is an *abstract* type representing any kind of scalar number. There are lots of subtypes of `Number` defined in Julia, and you can add your own, too:"
   ]
  },
  {
   "cell_type": "code",
   "execution_count": 7,
   "metadata": {
    "collapsed": false
   },
   "outputs": [
    {
     "name": "stdout",
     "output_type": "stream",
     "text": [
      "Number\n",
      "\tComplex{T<:Real}\n",
      "\tReal\n",
      "\t\tAbstractFloat\n",
      "\t\t\tBigFloat\n",
      "\t\t\tFloat16\n",
      "\t\t\tFloat32\n",
      "\t\t\tFloat64\n",
      "\t\tInteger\n",
      "\t\t\tBigInt\n",
      "\t\t\tBool\n",
      "\t\t\tSigned\n",
      "\t\t\t\tInt128\n",
      "\t\t\t\tInt16\n",
      "\t\t\t\tInt32\n",
      "\t\t\t\tInt64\n",
      "\t\t\t\tInt8\n",
      "\t\t\tUnsigned\n",
      "\t\t\t\tUInt128\n",
      "\t\t\t\tUInt16\n",
      "\t\t\t\tUInt32\n",
      "\t\t\t\tUInt64\n",
      "\t\t\t\tUInt8\n",
      "\t\tIrrational{sym}\n",
      "\t\tRational{T<:Integer}\n"
     ]
    }
   ],
   "source": [
    "# From https://en.wikibooks.org/wiki/Introducing_Julia/Types\n",
    "function showtypetree(T, level=0)\n",
    "    println(\"\\t\" ^ level, T)\n",
    "    for t in subtypes(T)\n",
    "        if t != Any\n",
    "            showtypetree(t, level+1)\n",
    "        end\n",
    "   end\n",
    "end\n",
    "\n",
    "showtypetree(Number)"
   ]
  },
  {
   "cell_type": "markdown",
   "metadata": {},
   "source": [
    "By defining `+` for our `Expression` and the abstract `Number` type, we have defined addition for all of the different kinds of numbers that Julia knows about:"
   ]
  },
  {
   "cell_type": "code",
   "execution_count": 8,
   "metadata": {
    "collapsed": false
   },
   "outputs": [
    {
     "data": {
      "text/plain": [
       "Expression(\"x + 1\")"
      ]
     },
     "execution_count": 8,
     "metadata": {},
     "output_type": "execute_result"
    }
   ],
   "source": [
    "# Integer\n",
    "x + 1 "
   ]
  },
  {
   "cell_type": "code",
   "execution_count": 9,
   "metadata": {
    "collapsed": false
   },
   "outputs": [
    {
     "data": {
      "text/plain": [
       "Expression(\"2.5 + x\")"
      ]
     },
     "execution_count": 9,
     "metadata": {},
     "output_type": "execute_result"
    }
   ],
   "source": [
    "# Floating point\n",
    "2.5 + x"
   ]
  },
  {
   "cell_type": "code",
   "execution_count": 10,
   "metadata": {
    "collapsed": false
   },
   "outputs": [
    {
     "data": {
      "text/plain": [
       "Expression(\"1//2 + x\")"
      ]
     },
     "execution_count": 10,
     "metadata": {},
     "output_type": "execute_result"
    }
   ],
   "source": [
    "# Rational\n",
    "1//2 + x"
   ]
  },
  {
   "cell_type": "code",
   "execution_count": 11,
   "metadata": {
    "collapsed": false
   },
   "outputs": [
    {
     "data": {
      "text/plain": [
       "Expression(\"x + 1 + 3im\")"
      ]
     },
     "execution_count": 11,
     "metadata": {},
     "output_type": "execute_result"
    }
   ],
   "source": [
    "# Complex\n",
    "x + (1 + 3im)"
   ]
  },
  {
   "cell_type": "markdown",
   "metadata": {},
   "source": [
    "## Why Julia is different\n",
    "\n",
    "We can do this kind of operator overloading in many languages. But the cool part about Julia is that there's nothing special about `+` or other operators. We can overload any function we want for any combination of types. Let's implement a few more functions for our Expression type:"
   ]
  },
  {
   "cell_type": "code",
   "execution_count": 12,
   "metadata": {
    "collapsed": false
   },
   "outputs": [
    {
     "data": {
      "text/plain": [
       "* (generic function with 150 methods)"
      ]
     },
     "execution_count": 12,
     "metadata": {},
     "output_type": "execute_result"
    }
   ],
   "source": [
    "import Base: sin, cos, *\n",
    "\n",
    "sin(e::Expression) = Expression(\"sin($(e.data))\")\n",
    "cos(e::Expression) = Expression(\"cos($(e.data))\")\n",
    "*(e1::Expression, e2::Expression) = Expression(\"($(e1.data)) * ($(e2.data))\")"
   ]
  },
  {
   "cell_type": "code",
   "execution_count": 13,
   "metadata": {
    "collapsed": false
   },
   "outputs": [
    {
     "data": {
      "text/plain": [
       "Expression(\"sin(x + y)\")"
      ]
     },
     "execution_count": 13,
     "metadata": {},
     "output_type": "execute_result"
    }
   ],
   "source": [
    "sin(x + y)"
   ]
  },
  {
   "cell_type": "code",
   "execution_count": 14,
   "metadata": {
    "collapsed": false
   },
   "outputs": [
    {
     "data": {
      "text/plain": [
       "Expression(\"(x) * (y)\")"
      ]
     },
     "execution_count": 14,
     "metadata": {},
     "output_type": "execute_result"
    }
   ],
   "source": [
    "x * y"
   ]
  },
  {
   "cell_type": "markdown",
   "metadata": {},
   "source": [
    "This is the basis for much of Julia's power and flexibility. We can define new interesting types, give them behaviors, and then use those behaviors to do more complex things. As a very basic demonstration, now that we've defined multiplication for our Expression type, we get sums and exponentiation for free:"
   ]
  },
  {
   "cell_type": "code",
   "execution_count": 15,
   "metadata": {
    "collapsed": false
   },
   "outputs": [
    {
     "data": {
      "text/plain": [
       "Expression(\"(x + 1) * (x + 1)\")"
      ]
     },
     "execution_count": 15,
     "metadata": {},
     "output_type": "execute_result"
    }
   ],
   "source": [
    "(x + 1)^2"
   ]
  },
  {
   "cell_type": "code",
   "execution_count": 16,
   "metadata": {
    "collapsed": false
   },
   "outputs": [
    {
     "data": {
      "text/plain": [
       "Expression(\"x + (x) * (x) + (x) * ((x) * (x))\")"
      ]
     },
     "execution_count": 16,
     "metadata": {},
     "output_type": "execute_result"
    }
   ],
   "source": [
    "sum([x, x^2, x^3])"
   ]
  },
  {
   "cell_type": "code",
   "execution_count": null,
   "metadata": {
    "collapsed": true
   },
   "outputs": [],
   "source": []
  }
 ],
 "metadata": {
  "kernelspec": {
   "display_name": "Julia 0.5.0",
   "language": "julia",
   "name": "julia-0.5"
  },
  "language_info": {
   "file_extension": ".jl",
   "mimetype": "application/julia",
   "name": "julia",
   "version": "0.5.1"
  }
 },
 "nbformat": 4,
 "nbformat_minor": 1
}
